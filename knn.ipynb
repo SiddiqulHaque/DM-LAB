{
 "cells": [
  {
   "cell_type": "code",
   "execution_count": 1,
   "id": "a57f7737-e40d-435c-8de0-d7fd1c8bb850",
   "metadata": {},
   "outputs": [
    {
     "name": "stdout",
     "output_type": "stream",
     "text": [
      "Prediction: 0\n"
     ]
    }
   ],
   "source": [
    "import numpy as np\n",
    "from collections import Counter\n",
    "\n",
    "def euclidean_distance(point1, point2):\n",
    "    return np.sqrt(np.sum((point1 - point2) ** 2))\n",
    "\n",
    "def knn(train_data, train_labels, test_data, k=3):\n",
    "    distances = [euclidean_distance(test_data, data_point) for data_point in train_data]\n",
    "    nearest_indices = np.argsort(distances)[:k]\n",
    "    nearest_labels = [train_labels[i] for i in nearest_indices]\n",
    "    most_common_label = Counter(nearest_labels).most_common(1)[0][0]\n",
    "    return most_common_label\n",
    "\n",
    "train_data = np.array([[1, 2], [2, 3], [3, 4], [6, 7], [7, 8]])\n",
    "train_labels = np.array([0, 0, 0, 1, 1])\n",
    "test_data = np.array([2, 3])\n",
    "k = 3\n",
    "result = knn(train_data, train_labels, test_data, k)\n",
    "print(f\"Prediction: {result}\")"
   ]
  }
 ],
 "metadata": {
  "kernelspec": {
   "display_name": "Python 3",
   "language": "python",
   "name": "python3"
  },
  "language_info": {
   "codemirror_mode": {
    "name": "ipython",
    "version": 3
   },
   "file_extension": ".py",
   "mimetype": "text/x-python",
   "name": "python",
   "nbconvert_exporter": "python",
   "pygments_lexer": "ipython3",
   "version": "3.10.0"
  }
 },
 "nbformat": 4,
 "nbformat_minor": 5
}
